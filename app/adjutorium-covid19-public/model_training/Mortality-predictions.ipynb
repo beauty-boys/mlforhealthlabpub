{
 "cells": [
  {
   "cell_type": "markdown",
   "metadata": {},
   "source": [
    "### How to make predictions with the mortality model?"
   ]
  },
  {
   "cell_type": "code",
   "execution_count": 1,
   "metadata": {
    "collapsed": true
   },
   "outputs": [],
   "source": [
    "from train_mortality_model import *\n",
    "import pickle\n",
    "\n",
    "from matplotlib import pyplot as plt\n",
    "%matplotlib inline"
   ]
  },
  {
   "cell_type": "code",
   "execution_count": 3,
   "metadata": {
    "collapsed": false
   },
   "outputs": [],
   "source": [
    "with open(\"adjutorium_mortality\",\"rb\") as f:\n",
    "    \n",
    "    death_model     = pickle.load(f)\n",
    "\n",
    "    \n",
    "with open(\"adjutorium_discharge\",\"rb\") as f:\n",
    "    \n",
    "    discharge_model  = pickle.load(f)\n",
    "    \n",
    "with open(\"adjutorium_icu\",\"rb\") as f:\n",
    "    \n",
    "    ICU_model  = pickle.load(f)"
   ]
  },
  {
   "cell_type": "code",
   "execution_count": 3,
   "metadata": {
    "collapsed": false
   },
   "outputs": [
    {
     "data": {
      "text/plain": [
       "['Age',\n",
       " 'Gender',\n",
       " 'Obesity',\n",
       " 'Pregnancy',\n",
       " 'Chronic Respiratory',\n",
       " 'Asthma',\n",
       " 'Chronic Heart',\n",
       " 'Chronic Renal',\n",
       " 'Chronic Liver',\n",
       " 'Chronic Neurological',\n",
       " 'Diabetes',\n",
       " 'Immunosuppression Treatment',\n",
       " 'Immunosuppression Disease',\n",
       " 'Other Comorbidities',\n",
       " 'Hypertension']"
      ]
     },
     "execution_count": 3,
     "metadata": {},
     "output_type": "execute_result"
    }
   ],
   "source": [
    "death_model.feature_set"
   ]
  },
  {
   "cell_type": "code",
   "execution_count": 4,
   "metadata": {
    "collapsed": true
   },
   "outputs": [],
   "source": [
    "# exemplary patient\n",
    "\n",
    "X               = np.array([80, 1, 0, 0, 0, 0, 0, 0, 0, 0, 0, 0, 0, 0, 0])"
   ]
  },
  {
   "cell_type": "code",
   "execution_count": 7,
   "metadata": {
    "collapsed": false
   },
   "outputs": [],
   "source": [
    "mortality_curve = death_model.predict(X)[0]\n",
    "discharge_curve = discharge_model.predict(X)[0]\n",
    "icu_curve       = ICU_model.predict(X)[0]"
   ]
  },
  {
   "cell_type": "code",
   "execution_count": 10,
   "metadata": {
    "collapsed": false
   },
   "outputs": [
    {
     "data": {
      "image/png": "[encoded data removed]",
      "text/plain": [
       "<Figure size 432x288 with 1 Axes>"
      ]
     },
     "metadata": {},
     "output_type": "display_data"
    }
   ],
   "source": [
    "plt.plot(list(range(1,8)), np.array(mortality_curve) * 100, marker=\"o\", color=\"r\", label=\"Death\")\n",
    "plt.plot(list(range(1,8)), np.array(discharge_curve) * 100, marker=\"o\", color=\"b\", label=\"Discharge\")\n",
    "plt.plot(list(range(1,8)), np.array(icu_curve)[:7] * 100, marker=\"o\", color=\"g\", label=\"ICU Admission\")\n",
    "\n",
    "\n",
    "plt.legend()\n",
    "plt.xlabel(\"Days since hospitalization\")\n",
    "plt.ylabel(\"Probability (%)\")\n",
    "\n",
    "plt.tight_layout()\n",
    "plt.savefig(\"ICU_curve.png\", dpi=5200)"
   ]
  },
  {
   "cell_type": "code",
   "execution_count": null,
   "metadata": {
    "collapsed": true
   },
   "outputs": [],
   "source": []
  },
  {
   "cell_type": "code",
   "execution_count": null,
   "metadata": {
    "collapsed": false
   },
   "outputs": [],
   "source": []
  },
  {
   "cell_type": "code",
   "execution_count": null,
   "metadata": {
    "collapsed": true
   },
   "outputs": [],
   "source": []
  }
 ],
 "metadata": {
  "kernelspec": {
   "display_name": "Python 3",
   "language": "python",
   "name": "python3"
  },
  "language_info": {
   "codemirror_mode": {
    "name": "ipython",
    "version": 3
   },
   "file_extension": ".py",
   "mimetype": "text/x-python",
   "name": "python",
   "nbconvert_exporter": "python",
   "pygments_lexer": "ipython3",
   "version": "3.6.1"
  }
 },
 "nbformat": 4,
 "nbformat_minor": 2
}
