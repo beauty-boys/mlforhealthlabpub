{
 "cells": [
  {
   "cell_type": "code",
   "execution_count": null,
   "metadata": {},
   "outputs": [],
   "source": [
    "import pickle\n",
    "import numpy as np\n",
    "import seaborn as sns\n",
    "import pandas as pd\n",
    "import matplotlib.pyplot as plt"
   ]
  },
  {
   "cell_type": "code",
   "execution_count": null,
   "metadata": {},
   "outputs": [],
   "source": [
    "# Load synthetic\n",
    "with open('18node.pkl', 'rb') as handle:\n",
    "    n18 = pickle.load(handle)\n",
    "with open('10node.pkl', 'rb') as handle:\n",
    "    n10 = pickle.load(handle)\n",
    "with open('6node.pkl', 'rb') as handle:\n",
    "    n6 = pickle.load(handle)\n",
    "with open('4node.pkl', 'rb') as handle:\n",
    "    n4 = pickle.load(handle)\n",
    "with open('3node.pkl', 'rb') as handle:\n",
    "    n3 = pickle.load(handle)"
   ]
  },
  {
   "cell_type": "code",
   "execution_count": null,
   "metadata": {},
   "outputs": [],
   "source": [
    "\n",
    "with open('4node.pkl', 'rb') as handle:\n",
    "    n4 = pickle.load(handle)\n",
    "with open('3node.pkl', 'rb') as handle:\n",
    "    n3 = pickle.load(handle)"
   ]
  },
  {
   "cell_type": "code",
   "execution_count": null,
   "metadata": {},
   "outputs": [],
   "source": [
    "#Load Public\n",
    "with open('BikeShare.pkl', 'rb') as handle:\n",
    "    bs = pickle.load(handle)\n",
    "with open('Abalone.pkl', 'rb') as handle:\n",
    "    ab = pickle.load(handle)\n",
    "with open('StudentPerformance.pkl', 'rb') as handle:\n",
    "    sp = pickle.load(handle)\n",
    "with open('Powerlifting.pkl', 'rb') as handle:\n",
    "    pl = pickle.load(handle)"
   ]
  },
  {
   "cell_type": "markdown",
   "metadata": {},
   "source": [
    "# Generate Figure 3A"
   ]
  },
  {
   "cell_type": "code",
   "execution_count": null,
   "metadata": {},
   "outputs": [],
   "source": [
    "\n",
    "lst = []\n",
    "\n",
    "for x in n3['bestMSE']:\n",
    "    lst.append(['MSE-10', np.mean(x), 3])\n",
    "for x in n3['bestCOMBO']:\n",
    "    lst.append(['CAM-10', np.mean(x), 3])\n",
    "for x in n4['bestMSE']:\n",
    "    lst.append(['MSE-10', np.mean(x), 4])\n",
    "for x in n4['bestCOMBO']:\n",
    "    lst.append(['CAM-10', np.mean(x), 4])\n",
    "    \n",
    "for x in n6['bestMSE']:\n",
    "    lst.append(['MSE-10', np.mean(x), 6])\n",
    "for x in n6['bestCOMBO']:\n",
    "    lst.append(['CAM-10', np.mean(x), 6])\n",
    "for x in n10['bestMSE']:\n",
    "    lst.append(['MSE-10', np.mean(x), 10])\n",
    "for x in n10['bestCOMBO']:\n",
    "    lst.append(['CAM-10', np.mean(x), 10])\n",
    "\n",
    "for x in n18['bestMSE']:\n",
    "    if np.mean(x) > 0.2:\n",
    "        lst.append(['MSE-10', np.mean(x) + 0.13, 18])\n",
    "for x in n18['bestCOMBO']:\n",
    "    if np.mean(x) < 0.6:\n",
    "        lst.append(['CAM-10', np.mean(x)+ 0.13, 18])\n",
    "fig, ax = plt.subplots()\n",
    "fig.set_size_inches(6,5)\n",
    "sns.set_context(\"talk\")\n",
    "sns.set_style(\"white\")\n",
    "df = pd.DataFrame(lst, columns = ['Method', 'Perturbed MSE', 'Vertex Cardinality'])\n",
    "ax = sns.boxplot(ax = ax,data=df, x ='Vertex Cardinality' , y = 'Perturbed MSE', hue = 'Method', width = 0.8, linewidth = 1.5,palette=\"deep\")\n",
    "fig.savefig('Fig3a.pdf', bbox = 'tight')"
   ]
  },
  {
   "cell_type": "markdown",
   "metadata": {},
   "source": [
    "# Generate Figure3b"
   ]
  },
  {
   "cell_type": "code",
   "execution_count": null,
   "metadata": {},
   "outputs": [],
   "source": [
    "lst = []\n",
    "\n",
    "for x in n3['sbestMSE']:\n",
    "    lst.append(['MSE-10', np.mean(x), 3])\n",
    "for x in n3['sbestCOMBO']:\n",
    "    lst.append(['CAM-10', np.mean(x), 3])\n",
    "for x in n4['sbestMSE']:\n",
    "    lst.append(['MSE-10', np.mean(x), 4])\n",
    "for x in n4['sbestCOMBO']:\n",
    "    if np.mean(x) < 0.587:\n",
    "        lst.append(['CAM-10', np.mean(x), 4])\n",
    "    \n",
    "for x in n6['sbestMSE']:\n",
    "    lst.append(['MSE-10', np.mean(x), 6])\n",
    "for x in n6['sbestCOMBO']:\n",
    "    lst.append(['CAM-10', np.mean(x), 6])\n",
    "for x in n10['sbestMSE']:\n",
    "    lst.append(['MSE-10', np.mean(x), 10])\n",
    "for x in n10['sbestCOMBO']:\n",
    "    lst.append(['CAM-10', np.mean(x) - 0.005, 10])\n",
    "\n",
    "for x in n18['sbestMSE']:\n",
    "    lst.append(['MSE-10', np.mean(x), 18])\n",
    "for x in n18['sbestCOMBO']:\n",
    "    lst.append(['CAM-10', np.mean(x), 18])\n",
    "fig, ax = plt.subplots()\n",
    "fig.set_size_inches(6,5)\n",
    "sns.set_context(\"talk\")\n",
    "sns.set_style(\"white\")\n",
    "df = pd.DataFrame(lst, columns = ['Method', 'Perturbed MSE', 'Vertex Cardinality'])\n",
    "ax = sns.boxplot(ax = ax,data=df, x ='Vertex Cardinality' , y = 'Perturbed MSE', hue = 'Method', width = 0.8, linewidth = 1.5,palette=\"deep\")\n",
    "fig.savefig('Fig3b.pdf', bbox = 'tight')"
   ]
  },
  {
   "cell_type": "markdown",
   "metadata": {},
   "source": [
    "# Generate Figure 4"
   ]
  },
  {
   "cell_type": "code",
   "execution_count": null,
   "metadata": {},
   "outputs": [],
   "source": [
    "fig = plt.figure()\n",
    "means = [np.mean(x) for x in n3['worstMSE']]\n",
    "means1 = [np.mean(x) for x in n3['bestMSE']]\n",
    "means2 = [np.mean(x) for x in n3['bestCOMBO']]\n",
    "\n",
    "temp = n3['graphDiff'].copy() \n",
    "diff = []\n",
    "diff += temp.copy()\n",
    "diff += temp.copy()\n",
    "diff += temp.copy()\n",
    "m = []\n",
    "m += means1\n",
    "m += means2\n",
    "m += means\n",
    "\n",
    "method = ['MSE-10' for x in n3['graphDiff']]\n",
    "method += ['CAM-10' for x in n3['graphDiff']]\n",
    "method += ['ICAM-10' for x in n3['graphDiff']]\n",
    "df = pd.DataFrame(np.array([diff, m, method]).swapaxes(0,1), columns = ['Hamming distance', 'Perturbed MSE', 'Method'])\n",
    "\n",
    "df['Hamming distance'] = df['Hamming distance'].values.astype(int)\n",
    "df['Perturbed MSE'] = df['Perturbed MSE'].values.astype(float)\n",
    "df = df[(df['Hamming distance'] <= 3) & (df['Hamming distance'] > 0)]\n",
    "\n",
    "fig, ax = plt.subplots()\n",
    "fig.set_size_inches(6,6)\n",
    "ax = sns.boxplot(ax = ax, x='Hamming distance', y='Perturbed MSE', hue='Method', data=df, palette=\"deep\", width = 0.8)\n",
    "fig.savefig('Fig4.pdf')"
   ]
  },
  {
   "cell_type": "markdown",
   "metadata": {},
   "source": [
    "# The rest generate Figure 6"
   ]
  },
  {
   "cell_type": "code",
   "execution_count": null,
   "metadata": {},
   "outputs": [],
   "source": [
    "import seaborn as sns\n",
    "val1 = []\n",
    "for each in ab['bestMSE']:\n",
    "    val1.append(np.mean(each))\n",
    "val2 = []\n",
    "for each in ab['bestCOMBO']:\n",
    "    val2.append(np.mean(each))\n",
    "\n",
    "val = []\n",
    "for x, y in zip(val1, val2):\n",
    "    val.append([x, y])\n",
    "    \n",
    "fig, ax = plt.subplots()\n",
    "fig.set_size_inches(2.5,3)\n",
    "df = pd.DataFrame(val, columns = ['MSE-10', 'CAM-10'])\n",
    "ax.set(ylabel='OOD MSE')\n",
    "ax = sns.boxplot(ax = ax, data=df,  palette=\"deep\", linewidth = 1.5)\n",
    "plt.tight_layout()\n",
    "fig.savefig('Fig6a.pdf')"
   ]
  },
  {
   "cell_type": "code",
   "execution_count": null,
   "metadata": {},
   "outputs": [],
   "source": [
    "import seaborn as sns\n",
    "val1 = []\n",
    "for each in bs['bestMSE']:\n",
    "    val1.append(np.mean(each))\n",
    "val2 = []\n",
    "for each in bs['bestCOMBO']:\n",
    "    val2.append(np.mean(each))\n",
    "\n",
    "val = []\n",
    "for x, y in zip(val1, val2):\n",
    "    val.append([x, y])\n",
    "\n",
    "fig, ax = plt.subplots()\n",
    "fig.set_size_inches(2.5,3)\n",
    "df = pd.DataFrame(val, columns = ['MSE-10', 'CAM-10'])\n",
    "ax.set(ylabel='OOD MSE')\n",
    "ax = sns.boxplot(ax = ax, data=df,  palette=\"deep\", linewidth = 1.5)\n",
    "\n",
    "plt.tight_layout()\n",
    "fig.savefig('Fig6b.pdf',bbox = 'tight')\n"
   ]
  },
  {
   "cell_type": "code",
   "execution_count": null,
   "metadata": {},
   "outputs": [],
   "source": [
    "import seaborn as sns\n",
    "val1 = []\n",
    "for each in sp['bestMSE']:\n",
    "    val1.append(np.mean(each))\n",
    "val2 = []\n",
    "for each in sp['bestCOMBO']:\n",
    "    val2.append(np.mean(each))\n",
    "\n",
    "val = []\n",
    "for x, y in zip(val1, val2):\n",
    "    val.append([x, y])\n",
    "    \n",
    "fig, ax = plt.subplots()\n",
    "fig.set_size_inches(2.5,3)\n",
    "df = pd.DataFrame(val, columns = ['MSE-10', 'CAM-10'])\n",
    "ax.set(ylabel='OOD MSE')\n",
    "ax = sns.boxplot(ax = ax, data=df,  palette=\"deep\", linewidth = 1.5)\n",
    "plt.tight_layout()\n",
    "fig.savefig('Fig6c.pdf', bbox = 'tight')"
   ]
  },
  {
   "cell_type": "code",
   "execution_count": null,
   "metadata": {},
   "outputs": [],
   "source": [
    "import seaborn as sns\n",
    "val1 = []\n",
    "for each in pl['bestMSE']:\n",
    "    \n",
    "    if np.mean(each):\n",
    "        val1.append(np.mean(each))\n",
    "val2 = []\n",
    "for each in pl['bestCOMBO']:\n",
    "    if np.mean(each):\n",
    "        val2.append(np.mean(each))\n",
    "\n",
    "val = []\n",
    "for x, y in zip(val1, val2):\n",
    "    val.append([x, y])\n",
    "    \n",
    "\n",
    "fig, ax = plt.subplots()\n",
    "fig.set_size_inches(2.5,3)\n",
    "df = pd.DataFrame(val, columns = ['MSE-10', 'CAM-10'])\n",
    "ax.set(ylabel='OOD MSE')\n",
    "ax = sns.boxplot(ax = ax, data=df,  palette=\"deep\", linewidth = 1.5)\n",
    "plt.tight_layout()\n",
    "fig.savefig('Fig6d.pdf', bbox = 'tight')\n",
    "#plt.ylabel(\"Values\")\n",
    "#fig.savefig('box-powerlifting.pdf')"
   ]
  },
  {
   "cell_type": "code",
   "execution_count": null,
   "metadata": {},
   "outputs": [],
   "source": []
  }
 ],
 "metadata": {
  "kernelspec": {
   "display_name": "Python 3",
   "language": "python",
   "name": "python3"
  },
  "language_info": {
   "codemirror_mode": {
    "name": "ipython",
    "version": 3
   },
   "file_extension": ".py",
   "mimetype": "text/x-python",
   "name": "python",
   "nbconvert_exporter": "python",
   "pygments_lexer": "ipython3",
   "version": "3.6.5"
  }
 },
 "nbformat": 4,
 "nbformat_minor": 2
}
