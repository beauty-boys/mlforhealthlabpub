{
 "cells": [
  {
   "cell_type": "markdown",
   "metadata": {},
   "source": [
    "#### International Conference on Machine Learning (ICML), 2020.\n",
    "\n",
    "## Discriminative Jackknife: Quantifying Uncertainty in Deep Learning via Influence Functions\n",
    "\n",
    "*Ahmed M. Alaa and Mihaela van der Schaar*"
   ]
  },
  {
   "cell_type": "markdown",
   "metadata": {},
   "source": [
    "### Experiments on synthetic data (Section 5.1)"
   ]
  },
  {
   "cell_type": "markdown",
   "metadata": {},
   "source": [
    "Import necessary libraries and initialize model parameters"
   ]
  },
  {
   "cell_type": "code",
   "execution_count": 1,
   "metadata": {},
   "outputs": [],
   "source": [
    "import numpy as np\n",
    "from matplotlib import pyplot as plt\n",
    "%matplotlib inline \n",
    "\n",
    "from models.static import *\n",
    "from utils.performance import *  \n",
    "import pickle\n",
    "\n",
    "n_epochs     = 100 #1000\n",
    "n_dim        = 1\n",
    "activtn      = \"Tanh\"      \n",
    "num_hidden   = 100\n",
    "num_layers   = 2\n",
    "verbosity    = False\n",
    "learn_rate   = 0.1\n",
    "\n",
    "N_EXP = 10\n",
    "\n",
    "params       = dict({\"n_dim\":n_dim, \n",
    "                     \"activation\":activtn, \n",
    "                     \"num_hidden\":num_hidden,\n",
    "                     \"num_layers\":num_layers})\n",
    "\n",
    "train_params = dict({\"num_iter\":n_epochs, \n",
    "                     \"verbosity\":verbosity, \n",
    "                     \"learning_rate\":learn_rate})"
   ]
  },
  {
   "cell_type": "markdown",
   "metadata": {},
   "source": [
    "Functions for running experiments on synthetic data in various simulation setups."
   ]
  },
  {
   "cell_type": "code",
   "execution_count": 2,
   "metadata": {},
   "outputs": [],
   "source": [
    "def true_func(X):\n",
    "    \n",
    "    return (X**3)\n",
    "\n",
    "\n",
    "def sample_data(n_train=50, n_test=20, sigma=3): \n",
    "    \n",
    "    X_train  = np.random.uniform(-4, 4, size=n_train).reshape((-1, 1))\n",
    "\n",
    "    noise    = np.random.normal(0, sigma**2, size=n_train).reshape((-1, 1))\n",
    "\n",
    "    Y_train  = true_func(X_train.reshape((-1, 1))) + noise\n",
    "    \n",
    "    X_test   = np.linspace(-4, 4, n_test).reshape((-1, 1))\n",
    "    Y_test   = true_func(X_test).reshape((-1,)) \n",
    "    \n",
    "    return X_train, Y_train, X_test, Y_test\n",
    "\n",
    "\n",
    "def sweep_noise_vars(coverage=.9):\n",
    "    \n",
    "    sigmas   = [0, 0.5, 1, 1.5, 2, 2.5, 3]\n",
    "    CIs      = []\n",
    "    Covs     = []\n",
    "    nexp     = N_EXP\n",
    "\n",
    "    for _ in range(nexp):\n",
    "    \n",
    "        CI  = []\n",
    "        Cov = []\n",
    "\n",
    "        for sigma in sigmas:\n",
    "\n",
    "            X_train, Y_train, X_test, Y_test = sample_data(n_train=1000, n_test=100, sigma=sigma)\n",
    "\n",
    "            model = DNN(**params)\n",
    "            model.fit(X_train, Y_train)\n",
    "\n",
    "            DJ_model                 = DNN_uncertainty_wrapper(model, damp=1e-2)\n",
    "            y_pred, y_lower, y_upper = DJ_model.predict(X_test, coverage=coverage)\n",
    "    \n",
    "            CI.append(np.abs(y_upper - y_lower))\n",
    "            Cov.append(np.mean(((Y_test >= y_lower) * (Y_test <= y_upper)) * 1))\n",
    "    \n",
    "        CIs.append(CI)\n",
    "        Covs.append(Cov)\n",
    "    \n",
    "    return [CIs, Covs]\n",
    "    \n",
    "\n",
    "def sweep_num_samples():\n",
    "    \n",
    "    n_sample = [10, 100, 1000]\n",
    "    CIs      = []\n",
    "    Covs     = []\n",
    "    nexp     = N_EXP\n",
    "    coverage = .9\n",
    "\n",
    "    for _ in range(nexp):\n",
    "    \n",
    "        CI  = []\n",
    "        Cov = []\n",
    "    \n",
    "        for n_ in n_sample:\n",
    "\n",
    "            X_train, Y_train, X_test, Y_test = sample_data(n_train=n_, n_test=100, sigma=1)\n",
    "\n",
    "            model = DNN(**params)\n",
    "            model.fit(X_train, Y_train)\n",
    "\n",
    "            DJ_model                 = DNN_uncertainty_wrapper(model, damp=1e-2)\n",
    "            y_pred, y_lower, y_upper = DJ_model.predict(X_test, coverage=coverage)\n",
    "    \n",
    "            CI.append(np.abs(y_upper - y_lower))\n",
    "            Cov.append(np.mean(((Y_test >= y_lower) * (Y_test <= y_upper)) * 1))\n",
    "        \n",
    "        CIs.append(CI)\n",
    "        Covs.append(Cov)\n",
    "    \n",
    "    return [CIs, Covs]\n",
    " \n",
    "\n",
    "def run_experiments(retrain=True):\n",
    "    \n",
    "    if retrain:\n",
    "        \n",
    "        res_synth = dict()\n",
    "        res_synth[\"nsamples\"] = sweep_num_samples()\n",
    "        res_synth[\"alpha_50\"] = sweep_noise_vars(coverage=.5)\n",
    "        res_synth[\"alpha_80\"] = sweep_noise_vars(coverage=.8)\n",
    "        res_synth[\"alpha_90\"] = sweep_noise_vars(coverage=.9)\n",
    "        \n",
    "    else:\n",
    "        \n",
    "        res_synth = pickle.load(open('saved_models/DJ_Experiment_2_results', 'rb'))\n",
    "    \n",
    "    return res_synth"
   ]
  },
  {
   "cell_type": "markdown",
   "metadata": {},
   "source": [
    "Run the experiments"
   ]
  },
  {
   "cell_type": "code",
   "execution_count": 3,
   "metadata": {},
   "outputs": [],
   "source": [
    "res_synth = run_experiments()"
   ]
  },
  {
   "cell_type": "markdown",
   "metadata": {},
   "source": [
    "Average width of confidence intervals for different numbers of training samples **(Figure 4)**"
   ]
  },
  {
   "cell_type": "code",
   "execution_count": 4,
   "metadata": {},
   "outputs": [
    {
     "data": {
      "text/plain": [
       "Text(0, 0.5, 'Average width of CIs')"
      ]
     },
     "execution_count": 4,
     "metadata": {},
     "output_type": "execute_result"
    },
    {
     "data": {
      "image/png": "[encoded data removed]",
      "text/plain": [
       "<Figure size 432x288 with 1 Axes>"
      ]
     },
     "metadata": {
      "needs_background": "light"
     },
     "output_type": "display_data"
    }
   ],
   "source": [
    "plt.plot([1, 2, 3], np.mean(np.mean(np.array(np.array(res_synth[\"nsamples\"][0])), axis=2), axis=0), \n",
    "         linewidth=2.5, linestyle=\"--\", color=\"b\")\n",
    "\n",
    "# plt.ylim(3, 12)\n",
    "\n",
    "plt.xlabel(\"Log(Number of training samples)\", fontsize=14, labelpad=15)\n",
    "plt.ylabel(\"Average width of CIs\", fontsize=14, labelpad=15)"
   ]
  },
  {
   "cell_type": "markdown",
   "metadata": {},
   "source": [
    "Average width of confidence intervals and achieved coverage for different levels of noise variance **(Figure 4)**"
   ]
  },
  {
   "cell_type": "code",
   "execution_count": 7,
   "metadata": {
    "collapsed": false,
    "jupyter": {
     "outputs_hidden": false
    }
   },
   "outputs": [
    {
     "data": {
      "text/plain": [
       "Text(0, 0.5, 'Average width of CIs')"
      ]
     },
     "execution_count": 7,
     "metadata": {},
     "output_type": "execute_result"
    },
    {
     "data": {
      "image/png": "[encoded data removed]",
      "text/plain": [
       "<Figure size 432x288 with 1 Axes>"
      ]
     },
     "metadata": {
      "needs_background": "light"
     },
     "output_type": "display_data"
    }
   ],
   "source": [
    "sigmas     = [0, 0.5, 1, 1.5, 2, 2.5, 3]\n",
    "\n",
    "Mean_CI_50 = np.mean(np.mean(np.array(res_synth[\"alpha_50\"][0]), axis=2), axis=0)\n",
    "std_CI_50  = np.std(np.mean(np.array(res_synth[\"alpha_50\"][0]), axis=2), axis=0)\n",
    "\n",
    "Mean_CI_80 = np.mean(np.mean(np.array(res_synth[\"alpha_80\"][0]), axis=2), axis=0)\n",
    "std_CI_80  = np.std(np.mean(np.array(res_synth[\"alpha_80\"][0]), axis=2), axis=0)\n",
    "\n",
    "Mean_CI_90 = np.mean(np.mean(np.array(res_synth[\"alpha_90\"][0]), axis=2), axis=0)\n",
    "std_CI_90  = np.std(np.mean(np.array(res_synth[\"alpha_90\"][0]), axis=2), axis=0)\n",
    "\n",
    "plt.plot(sigmas, Mean_CI_50, linewidth=2.5, linestyle=\"--\", color=\"b\")\n",
    "plt.fill_between(sigmas,  Mean_CI_50 - std_CI_50, Mean_CI_50 + std_CI_50, alpha=.1, color=\"b\")\n",
    "\n",
    "plt.plot(sigmas, Mean_CI_80, linewidth=2.5, linestyle=\":\", color=\"purple\")\n",
    "plt.fill_between(sigmas, Mean_CI_80 - std_CI_80, Mean_CI_80 + std_CI_80, alpha=.1, color=\"purple\")\n",
    "\n",
    "plt.plot(sigmas, Mean_CI_90, linewidth=2.5, color=\"r\")\n",
    "plt.fill_between(sigmas, Mean_CI_90 - std_CI_90, Mean_CI_90 + std_CI_90, alpha=.1, color=\"r\")\n",
    "\n",
    "plt.xlim(0, 3)\n",
    "plt.ylim(-50, 50)\n",
    "\n",
    "plt.xlabel(r\"Noise variance $\\sigma^2$\", fontsize=14, labelpad=15)\n",
    "plt.ylabel(\"Average width of CIs\", fontsize=14, labelpad=15)"
   ]
  },
  {
   "cell_type": "code",
   "execution_count": 6,
   "metadata": {
    "collapsed": false,
    "jupyter": {
     "outputs_hidden": false
    }
   },
   "outputs": [
    {
     "data": {
      "text/plain": [
       "Text(0, 0.5, 'Achieved Coverage')"
      ]
     },
     "execution_count": 6,
     "metadata": {},
     "output_type": "execute_result"
    },
    {
     "data": {
      "image/png": "[encoded data removed]",
      "text/plain": [
       "<Figure size 432x288 with 1 Axes>"
      ]
     },
     "metadata": {
      "needs_background": "light"
     },
     "output_type": "display_data"
    }
   ],
   "source": [
    "Mean_Cov_50 = np.mean(np.array(res_synth[\"alpha_50\"][1]), axis=0)\n",
    "Mean_Cov_80 = np.mean(np.array(res_synth[\"alpha_80\"][1]), axis=0)\n",
    "Mean_Cov_90 = np.mean(np.array(res_synth[\"alpha_90\"][1]), axis=0)\n",
    "\n",
    "plt.plot(sigmas, Mean_Cov_50, marker=\"o\", linewidth=2.5, linestyle=\"--\", color=\"b\")\n",
    "plt.plot(sigmas, Mean_Cov_80, marker=\"o\", linewidth=2.5, linestyle=\":\", color=\"purple\")\n",
    "plt.plot(sigmas, Mean_Cov_90, marker=\"o\", linewidth=2.5, color=\"r\")\n",
    "\n",
    "plt.ylim(.5, 1.05)\n",
    "plt.xlim(0, 3)\n",
    "\n",
    "plt.xlabel(r\"Noise variance $\\sigma^2$\", fontsize=14, labelpad=15)\n",
    "plt.ylabel(\"Achieved Coverage\", fontsize=14, labelpad=15)"
   ]
  }
 ],
 "metadata": {
  "kernelspec": {
   "display_name": "Python [conda env:py36_dj] *",
   "language": "python",
   "name": "conda-env-py36_dj-py"
  },
  "language_info": {
   "codemirror_mode": {
    "name": "ipython",
    "version": 3
   },
   "file_extension": ".py",
   "mimetype": "text/x-python",
   "name": "python",
   "nbconvert_exporter": "python",
   "pygments_lexer": "ipython3",
   "version": "3.6.12"
  }
 },
 "nbformat": 4,
 "nbformat_minor": 4
}
